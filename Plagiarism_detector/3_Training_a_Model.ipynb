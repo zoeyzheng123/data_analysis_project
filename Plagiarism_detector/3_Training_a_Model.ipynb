{
 "cells": [
  {
   "cell_type": "markdown",
   "metadata": {},
   "source": [
    "# Plagiarism Detection Model\n",
    "\n",
    "Now that you've created training and test data, you are ready to define and train a model. Your goal in this notebook, will be to train a binary classification model that learns to label an answer file as either plagiarized or not, based on the features you provide the model.\n",
    "\n",
    "This task will be broken down into a few discrete steps:\n",
    "\n",
    "* Upload your data to S3.\n",
    "* Define a binary classification model and a training script.\n",
    "* Train your model and deploy it.\n",
    "* Evaluate your deployed classifier and answer some questions about your approach.\n",
    "\n",
    "To complete this notebook, you'll have to complete all given exercises and answer all the questions in this notebook.\n",
    "> All your tasks will be clearly labeled **EXERCISE** and questions as **QUESTION**.\n",
    "\n",
    "It will be up to you to explore different classification models and decide on a model that gives you the best performance for this dataset.\n",
    "\n",
    "---"
   ]
  },
  {
   "cell_type": "markdown",
   "metadata": {},
   "source": [
    "## Load Data to S3\n",
    "\n",
    "In the last notebook, you should have created two files: a `training.csv` and `test.csv` file with the features and class labels for the given corpus of plagiarized/non-plagiarized text data. \n",
    "\n",
    ">The below cells load in some AWS SageMaker libraries and creates a default bucket. After creating this bucket, you can upload your locally stored data to S3.\n",
    "\n",
    "Save your train and test `.csv` feature files, locally. To do this you can run the second notebook \"2_Plagiarism_Feature_Engineering\" in SageMaker or you can manually upload your files to this notebook using the upload icon in Jupyter Lab. Then you can upload local files to S3 by using `sagemaker_session.upload_data` and pointing directly to where the training data is saved."
   ]
  },
  {
   "cell_type": "code",
   "execution_count": 23,
   "metadata": {},
   "outputs": [],
   "source": [
    "import pandas as pd\n",
    "import boto3\n",
    "import sagemaker"
   ]
  },
  {
   "cell_type": "code",
   "execution_count": 85,
   "metadata": {},
   "outputs": [],
   "source": [
    "train = pd.read_csv(data_dir + '/train.csv', header=None)"
   ]
  },
  {
   "cell_type": "code",
   "execution_count": 86,
   "metadata": {},
   "outputs": [
    {
     "data": {
      "text/plain": [
       "(70, 6)"
      ]
     },
     "execution_count": 86,
     "metadata": {},
     "output_type": "execute_result"
    }
   ],
   "source": [
    "train.shape"
   ]
  },
  {
   "cell_type": "code",
   "execution_count": 87,
   "metadata": {},
   "outputs": [],
   "source": [
    "test = pd.read_csv(data_dir + '/test.csv', header=None)"
   ]
  },
  {
   "cell_type": "code",
   "execution_count": 89,
   "metadata": {},
   "outputs": [
    {
     "data": {
      "text/plain": [
       "(25, 6)"
      ]
     },
     "execution_count": 89,
     "metadata": {},
     "output_type": "execute_result"
    }
   ],
   "source": [
    "test.shape"
   ]
  },
  {
   "cell_type": "code",
   "execution_count": 50,
   "metadata": {},
   "outputs": [],
   "source": [
    "\"\"\"\n",
    "DON'T MODIFY ANYTHING IN THIS CELL THAT IS BELOW THIS LINE\n",
    "\"\"\"\n",
    "# session and role\n",
    "sagemaker_session = sagemaker.Session()\n",
    "role = sagemaker.get_execution_role()\n",
    "\n",
    "# create an S3 bucket\n",
    "bucket = sagemaker_session.default_bucket()"
   ]
  },
  {
   "cell_type": "code",
   "execution_count": 52,
   "metadata": {},
   "outputs": [
    {
     "data": {
      "text/plain": [
       "'sagemaker-us-east-1-171338130067'"
      ]
     },
     "execution_count": 52,
     "metadata": {},
     "output_type": "execute_result"
    }
   ],
   "source": [
    "bucket"
   ]
  },
  {
   "cell_type": "markdown",
   "metadata": {},
   "source": [
    "## EXERCISE: Upload your training data to S3\n",
    "\n",
    "Specify the `data_dir` where you've saved your `train.csv` file. Decide on a descriptive `prefix` that defines where your data will be uploaded in the default S3 bucket. Finally, create a pointer to your training data by calling `sagemaker_session.upload_data` and passing in the required parameters. It may help to look at the [Session documentation](https://sagemaker.readthedocs.io/en/stable/session.html#sagemaker.session.Session.upload_data) or previous SageMaker code examples.\n",
    "\n",
    "You are expected to upload your entire directory. Later, the training script will only access the `train.csv` file."
   ]
  },
  {
   "cell_type": "code",
   "execution_count": 53,
   "metadata": {},
   "outputs": [
    {
     "name": "stdout",
     "output_type": "stream",
     "text": [
      "s3://sagemaker-us-east-1-171338130067/plagiarism_data\n"
     ]
    }
   ],
   "source": [
    "# should be the name of directory you created to save your features data\n",
    "data_dir = 'plagiarism_data'\n",
    "\n",
    "# set prefix, a descriptive name for a directory  \n",
    "prefix = 'plagiarism_data'\n",
    "\n",
    "# upload all data to S3\n",
    "input_data = sagemaker_session.upload_data(path=data_dir, bucket=bucket, key_prefix=prefix)\n",
    "print(input_data)"
   ]
  },
  {
   "cell_type": "markdown",
   "metadata": {},
   "source": [
    "### Test cell\n",
    "\n",
    "Test that your data has been successfully uploaded. The below cell prints out the items in your S3 bucket and will throw an error if it is empty. You should see the contents of your `data_dir` and perhaps some checkpoints. If you see any other files listed, then you may have some old model files that you can delete via the S3 console (though, additional files shouldn't affect the performance of model developed in this notebook)."
   ]
  },
  {
   "cell_type": "code",
   "execution_count": 54,
   "metadata": {},
   "outputs": [
    {
     "name": "stdout",
     "output_type": "stream",
     "text": [
      "counties/kmeans-2020-05-05-21-15-07-367/output/model.tar.gz\n",
      "counties/kmeans-2020-05-14-18-01-54-631/output/model.tar.gz\n",
      "counties/pca-2020-05-14-17-24-53-310/output/model.tar.gz\n",
      "creditcard/linear-learner-2020-05-16-16-03-01-607/output/model.tar.gz\n",
      "creditcard/linear-learner-2020-05-16-16-35-07-863/output/model.tar.gz\n",
      "deepar-energy-consumption/output/forecasting-deepar-2020-05-21-15-53-50-776/output/model.tar.gz\n",
      "deepar-energy-consumption/test/test.json\n",
      "deepar-energy-consumption/train/train.json\n",
      "plagiarism_data/test.csv\n",
      "plagiarism_data/train.csv\n",
      "sagemaker-pytorch-2020-05-12-15-31-06-877/debug-output/training_job_end.ts\n",
      "sagemaker-pytorch-2020-05-12-15-31-06-877/output/model.tar.gz\n",
      "sagemaker-pytorch-2020-05-12-15-31-06-877/source/sourcedir.tar.gz\n",
      "sagemaker-pytorch-2020-05-12-18-02-27-933/source/sourcedir.tar.gz\n",
      "sagemaker-pytorch-2020-05-12-18-18-10-801/debug-output/training_job_end.ts\n",
      "sagemaker-pytorch-2020-05-12-18-18-10-801/output/model.tar.gz\n",
      "sagemaker-pytorch-2020-05-12-18-18-10-801/source/sourcedir.tar.gz\n",
      "sagemaker-pytorch-2020-05-13-14-16-49-954/debug-output/training_job_end.ts\n",
      "sagemaker-pytorch-2020-05-13-14-16-49-954/output/model.tar.gz\n",
      "sagemaker-pytorch-2020-05-13-14-16-49-954/source/sourcedir.tar.gz\n",
      "sagemaker-pytorch-2020-05-13-14-49-48-936/sourcedir.tar.gz\n",
      "sagemaker-pytorch-2020-05-13-15-57-44-306/sourcedir.tar.gz\n",
      "sagemaker-pytorch-2020-05-13-20-11-07-358/debug-output/training_job_end.ts\n",
      "sagemaker-pytorch-2020-05-13-20-11-07-358/output/model.tar.gz\n",
      "sagemaker-pytorch-2020-05-13-20-11-07-358/source/sourcedir.tar.gz\n",
      "sagemaker-pytorch-2020-05-13-20-19-34-051/sourcedir.tar.gz\n",
      "sagemaker-pytorch-2020-05-13-20-40-16-566/sourcedir.tar.gz\n",
      "sagemaker-pytorch-2020-05-13-20-54-35-734/sourcedir.tar.gz\n",
      "sagemaker-pytorch-2020-05-13-21-07-32-745/sourcedir.tar.gz\n",
      "sagemaker-pytorch-2020-05-20-17-16-06-146/source/sourcedir.tar.gz\n",
      "sagemaker-pytorch-2020-05-20-17-25-39-535/sourcedir.tar.gz\n",
      "sagemaker-pytorch-2020-05-20-19-39-58-844/source/sourcedir.tar.gz\n",
      "sagemaker-pytorch-2020-05-20-19-45-33-998/source/sourcedir.tar.gz\n",
      "sagemaker-pytorch-2020-05-20-19-53-49-353/sourcedir.tar.gz\n",
      "sagemaker-pytorch-2020-05-20-19-54-00-212/source/sourcedir.tar.gz\n",
      "sagemaker-pytorch-2020-05-20-20-00-54-653/source/sourcedir.tar.gz\n",
      "sagemaker-pytorch-2020-05-20-20-43-12-902/source/sourcedir.tar.gz\n",
      "sagemaker-pytorch-2020-05-20-20-52-50-677/source/sourcedir.tar.gz\n",
      "sagemaker-pytorch-2020-05-20-21-55-30-007/source/sourcedir.tar.gz\n",
      "sagemaker-pytorch-2020-05-23-16-40-53-380/source/sourcedir.tar.gz\n",
      "sagemaker-pytorch-2020-05-23-16-54-12-029/source/sourcedir.tar.gz\n",
      "sagemaker-pytorch-2020-05-23-17-12-41-948/source/sourcedir.tar.gz\n",
      "sagemaker-pytorch-2020-05-23-17-17-45-681/source/sourcedir.tar.gz\n",
      "sagemaker-pytorch-2020-05-23-17-39-12-831/source/sourcedir.tar.gz\n",
      "sagemaker-pytorch-2020-05-23-17-56-55-574/source/sourcedir.tar.gz\n",
      "sagemaker-pytorch-2020-05-23-18-01-49-110/source/sourcedir.tar.gz\n",
      "sagemaker-pytorch-2020-05-23-18-04-02-267/source/sourcedir.tar.gz\n",
      "sagemaker-pytorch-2020-05-23-18-09-21-685/source/sourcedir.tar.gz\n",
      "sagemaker-record-sets/KMeans-2020-05-05-21-14-54-618/.amazon.manifest\n",
      "sagemaker-record-sets/KMeans-2020-05-05-21-14-54-618/matrix_0.pbr\n",
      "sagemaker-record-sets/KMeans-2020-05-14-18-01-52-147/.amazon.manifest\n",
      "sagemaker-record-sets/KMeans-2020-05-14-18-01-52-147/matrix_0.pbr\n",
      "sagemaker-record-sets/LinearLearner-2020-05-16-16-01-11-763/.amazon.manifest\n",
      "sagemaker-record-sets/LinearLearner-2020-05-16-16-01-11-763/matrix_0.pbr\n",
      "sagemaker-record-sets/PCA-2020-05-05-18-50-00-543/.amazon.manifest\n",
      "sagemaker-record-sets/PCA-2020-05-05-18-50-00-543/matrix_0.pbr\n",
      "sagemaker-record-sets/PCA-2020-05-14-17-24-46-941/.amazon.manifest\n",
      "sagemaker-record-sets/PCA-2020-05-14-17-24-46-941/matrix_0.pbr\n",
      "sagemaker/moon-data/sagemaker-pytorch-2020-05-20-17-16-06-146/debug-output/training_job_end.ts\n",
      "sagemaker/moon-data/sagemaker-pytorch-2020-05-20-17-16-06-146/output/model.tar.gz\n",
      "sagemaker/moon-data/sagemaker-pytorch-2020-05-20-19-39-58-844/output/model.tar.gz\n",
      "sagemaker/moon-data/sagemaker-pytorch-2020-05-20-19-45-33-998/output/model.tar.gz\n",
      "sagemaker/moon-data/sagemaker-pytorch-2020-05-20-19-54-00-212/output/model.tar.gz\n",
      "sagemaker/moon-data/sagemaker-pytorch-2020-05-20-20-00-54-653/output/model.tar.gz\n",
      "sagemaker/moon-data/sagemaker-pytorch-2020-05-20-20-43-12-902/output/model.tar.gz\n",
      "sagemaker/moon-data/sagemaker-pytorch-2020-05-20-20-52-50-677/output/model.tar.gz\n",
      "sagemaker/moon-data/sagemaker-pytorch-2020-05-20-21-55-30-007/output/model.tar.gz\n",
      "sagemaker/moon-data/train.csv\n",
      "sagemaker/sentiment_rnn/train.csv\n",
      "sagemaker/sentiment_rnn/word_dict.pkl\n",
      "Test passed!\n"
     ]
    }
   ],
   "source": [
    "\"\"\"\n",
    "DON'T MODIFY ANYTHING IN THIS CELL THAT IS BELOW THIS LINE\n",
    "\"\"\"\n",
    "# confirm that data is in S3 bucket\n",
    "empty_check = []\n",
    "for obj in boto3.resource('s3').Bucket(bucket).objects.all():\n",
    "    empty_check.append(obj.key)\n",
    "    print(obj.key)\n",
    "\n",
    "assert len(empty_check) !=0, 'S3 bucket is empty.'\n",
    "print('Test passed!')"
   ]
  },
  {
   "cell_type": "markdown",
   "metadata": {},
   "source": [
    "---\n",
    "\n",
    "# Modeling\n",
    "\n",
    "Now that you've uploaded your training data, it's time to define and train a model!\n",
    "\n",
    "The type of model you create is up to you. For a binary classification task, you can choose to go one of three routes:\n",
    "* Use a built-in classification algorithm, like LinearLearner.\n",
    "* Define a custom Scikit-learn classifier, a comparison of models can be found [here](https://scikit-learn.org/stable/auto_examples/classification/plot_classifier_comparison.html).\n",
    "* Define a custom PyTorch neural network classifier. \n",
    "\n",
    "It will be up to you to test out a variety of models and choose the best one. Your project will be graded on the accuracy of your final model. \n",
    " \n",
    "---\n",
    "\n",
    "## EXERCISE: Complete a training script \n",
    "\n",
    "To implement a custom classifier, you'll need to complete a `train.py` script. You've been given the folders `source_sklearn` and `source_pytorch` which hold starting code for a custom Scikit-learn model and a PyTorch model, respectively. Each directory has a `train.py` training script. To complete this project **you only need to complete one of these scripts**; the script that is responsible for training your final model.\n",
    "\n",
    "A typical training script:\n",
    "* Loads training data from a specified directory\n",
    "* Parses any training & model hyperparameters (ex. nodes in a neural network, training epochs, etc.)\n",
    "* Instantiates a model of your design, with any specified hyperparams\n",
    "* Trains that model \n",
    "* Finally, saves the model so that it can be hosted/deployed, later\n",
    "\n",
    "### Defining and training a model\n",
    "Much of the training script code is provided for you. Almost all of your work will be done in the `if __name__ == '__main__':` section. To complete a `train.py` file, you will:\n",
    "1. Import any extra libraries you need\n",
    "2. Define any additional model training hyperparameters using `parser.add_argument`\n",
    "2. Define a model in the `if __name__ == '__main__':` section\n",
    "3. Train the model in that same section\n",
    "\n",
    "Below, you can use `!pygmentize` to display an existing `train.py` file. Read through the code; all of your tasks are marked with `TODO` comments. \n",
    "\n",
    "**Note: If you choose to create a custom PyTorch model, you will be responsible for defining the model in the `model.py` file,** and a `predict.py` file is provided. If you choose to use Scikit-learn, you only need a `train.py` file; you may import a classifier from the `sklearn` library."
   ]
  },
  {
   "cell_type": "code",
   "execution_count": 55,
   "metadata": {},
   "outputs": [
    {
     "name": "stdout",
     "output_type": "stream",
     "text": [
      "\u001b[34mimport\u001b[39;49;00m \u001b[04m\u001b[36margparse\u001b[39;49;00m\r\n",
      "\u001b[34mimport\u001b[39;49;00m \u001b[04m\u001b[36msys\u001b[39;49;00m\r\n",
      "\u001b[34mimport\u001b[39;49;00m \u001b[04m\u001b[36mos\u001b[39;49;00m\r\n",
      "\u001b[34mimport\u001b[39;49;00m \u001b[04m\u001b[36mjson\u001b[39;49;00m\r\n",
      "\r\n",
      "\u001b[34mimport\u001b[39;49;00m \u001b[04m\u001b[36mpandas\u001b[39;49;00m \u001b[34mas\u001b[39;49;00m \u001b[04m\u001b[36mpd\u001b[39;49;00m\r\n",
      "\r\n",
      "\u001b[37m# pytorch\u001b[39;49;00m\r\n",
      "\u001b[34mimport\u001b[39;49;00m \u001b[04m\u001b[36mtorch\u001b[39;49;00m\r\n",
      "\u001b[34mimport\u001b[39;49;00m \u001b[04m\u001b[36mtorch.nn\u001b[39;49;00m \u001b[34mas\u001b[39;49;00m \u001b[04m\u001b[36mnn\u001b[39;49;00m\r\n",
      "\u001b[34mimport\u001b[39;49;00m \u001b[04m\u001b[36mtorch.optim\u001b[39;49;00m \u001b[34mas\u001b[39;49;00m \u001b[04m\u001b[36moptim\u001b[39;49;00m\r\n",
      "\u001b[34mimport\u001b[39;49;00m \u001b[04m\u001b[36mtorch.utils.data\u001b[39;49;00m\r\n",
      "\r\n",
      "\u001b[37m# imports the model in model.py by name\u001b[39;49;00m\r\n",
      "\u001b[34mfrom\u001b[39;49;00m \u001b[04m\u001b[36mmodel\u001b[39;49;00m \u001b[34mimport\u001b[39;49;00m BinaryClassifier\r\n",
      "\r\n",
      "\u001b[34mdef\u001b[39;49;00m \u001b[32mmodel_fn\u001b[39;49;00m(model_dir):\r\n",
      "    \u001b[33m\"\"\"Load the PyTorch model from the `model_dir` directory.\"\"\"\u001b[39;49;00m\r\n",
      "    \u001b[34mprint\u001b[39;49;00m(\u001b[33m\"\u001b[39;49;00m\u001b[33mLoading model.\u001b[39;49;00m\u001b[33m\"\u001b[39;49;00m)\r\n",
      "\r\n",
      "    \u001b[37m# First, load the parameters used to create the model.\u001b[39;49;00m\r\n",
      "    model_info = {}\r\n",
      "    model_info_path = os.path.join(model_dir, \u001b[33m'\u001b[39;49;00m\u001b[33mmodel_info.pth\u001b[39;49;00m\u001b[33m'\u001b[39;49;00m)\r\n",
      "    \u001b[34mwith\u001b[39;49;00m \u001b[36mopen\u001b[39;49;00m(model_info_path, \u001b[33m'\u001b[39;49;00m\u001b[33mrb\u001b[39;49;00m\u001b[33m'\u001b[39;49;00m) \u001b[34mas\u001b[39;49;00m f:\r\n",
      "        model_info = torch.load(f)\r\n",
      "\r\n",
      "    \u001b[34mprint\u001b[39;49;00m(\u001b[33m\"\u001b[39;49;00m\u001b[33mmodel_info: {}\u001b[39;49;00m\u001b[33m\"\u001b[39;49;00m.format(model_info))\r\n",
      "\r\n",
      "    \u001b[37m# Determine the device and construct the model.\u001b[39;49;00m\r\n",
      "    device = torch.device(\u001b[33m\"\u001b[39;49;00m\u001b[33mcuda\u001b[39;49;00m\u001b[33m\"\u001b[39;49;00m \u001b[34mif\u001b[39;49;00m torch.cuda.is_available() \u001b[34melse\u001b[39;49;00m \u001b[33m\"\u001b[39;49;00m\u001b[33mcpu\u001b[39;49;00m\u001b[33m\"\u001b[39;49;00m)\r\n",
      "    model = BinaryClassifier(model_info[\u001b[33m'\u001b[39;49;00m\u001b[33minput_features\u001b[39;49;00m\u001b[33m'\u001b[39;49;00m], model_info[\u001b[33m'\u001b[39;49;00m\u001b[33mhidden_dim\u001b[39;49;00m\u001b[33m'\u001b[39;49;00m], model_info[\u001b[33m'\u001b[39;49;00m\u001b[33moutput_dim\u001b[39;49;00m\u001b[33m'\u001b[39;49;00m])\r\n",
      "\r\n",
      "    \u001b[37m# Load the stored model parameters.\u001b[39;49;00m\r\n",
      "    model_path = os.path.join(model_dir, \u001b[33m'\u001b[39;49;00m\u001b[33mmodel.pth\u001b[39;49;00m\u001b[33m'\u001b[39;49;00m)\r\n",
      "    \u001b[34mwith\u001b[39;49;00m \u001b[36mopen\u001b[39;49;00m(model_path, \u001b[33m'\u001b[39;49;00m\u001b[33mrb\u001b[39;49;00m\u001b[33m'\u001b[39;49;00m) \u001b[34mas\u001b[39;49;00m f:\r\n",
      "        model.load_state_dict(torch.load(f))\r\n",
      "\r\n",
      "    \u001b[37m# set to eval mode, could use no_grad\u001b[39;49;00m\r\n",
      "    model.to(device).eval()\r\n",
      "\r\n",
      "    \u001b[34mprint\u001b[39;49;00m(\u001b[33m\"\u001b[39;49;00m\u001b[33mDone loading model.\u001b[39;49;00m\u001b[33m\"\u001b[39;49;00m)\r\n",
      "    \u001b[34mreturn\u001b[39;49;00m model\r\n",
      "\r\n",
      "\u001b[37m# Gets training data in batches from the train.csv file\u001b[39;49;00m\r\n",
      "\u001b[34mdef\u001b[39;49;00m \u001b[32m_get_train_data_loader\u001b[39;49;00m(batch_size, training_dir):\r\n",
      "    \u001b[34mprint\u001b[39;49;00m(\u001b[33m\"\u001b[39;49;00m\u001b[33mGet train data loader.\u001b[39;49;00m\u001b[33m\"\u001b[39;49;00m)\r\n",
      "\r\n",
      "    train_data = pd.read_csv(os.path.join(training_dir, \u001b[33m\"\u001b[39;49;00m\u001b[33mtrain.csv\u001b[39;49;00m\u001b[33m\"\u001b[39;49;00m), header=\u001b[36mNone\u001b[39;49;00m, names=\u001b[36mNone\u001b[39;49;00m)\r\n",
      "\r\n",
      "    train_y = torch.from_numpy(train_data[[\u001b[34m0\u001b[39;49;00m]].values).float().squeeze()\r\n",
      "    train_x = torch.from_numpy(train_data.drop([\u001b[34m0\u001b[39;49;00m], axis=\u001b[34m1\u001b[39;49;00m).values).float()\r\n",
      "\r\n",
      "    train_ds = torch.utils.data.TensorDataset(train_x, train_y)\r\n",
      "\r\n",
      "    \u001b[34mreturn\u001b[39;49;00m torch.utils.data.DataLoader(train_ds, batch_size=batch_size)\r\n",
      "\r\n",
      "\r\n",
      "\u001b[37m# Provided training function\u001b[39;49;00m\r\n",
      "\u001b[34mdef\u001b[39;49;00m \u001b[32mtrain\u001b[39;49;00m(model, train_loader, epochs, criterion, optimizer, device):\r\n",
      "    \u001b[33m\"\"\"\u001b[39;49;00m\r\n",
      "\u001b[33m    This is the training method that is called by the PyTorch training script. The parameters\u001b[39;49;00m\r\n",
      "\u001b[33m    passed are as follows:\u001b[39;49;00m\r\n",
      "\u001b[33m    model        - The PyTorch model that we wish to train.\u001b[39;49;00m\r\n",
      "\u001b[33m    train_loader - The PyTorch DataLoader that should be used during training.\u001b[39;49;00m\r\n",
      "\u001b[33m    epochs       - The total number of epochs to train for.\u001b[39;49;00m\r\n",
      "\u001b[33m    criterion    - The loss function used for training. \u001b[39;49;00m\r\n",
      "\u001b[33m    optimizer    - The optimizer to use during training.\u001b[39;49;00m\r\n",
      "\u001b[33m    device       - Where the model and data should be loaded (gpu or cpu).\u001b[39;49;00m\r\n",
      "\u001b[33m    \"\"\"\u001b[39;49;00m\r\n",
      "    \r\n",
      "    \u001b[37m# training loop is provided\u001b[39;49;00m\r\n",
      "    \u001b[34mfor\u001b[39;49;00m epoch \u001b[35min\u001b[39;49;00m \u001b[36mrange\u001b[39;49;00m(\u001b[34m1\u001b[39;49;00m, epochs + \u001b[34m1\u001b[39;49;00m):\r\n",
      "        model.train() \u001b[37m# Make sure that the model is in training mode.\u001b[39;49;00m\r\n",
      "\r\n",
      "        total_loss = \u001b[34m0\u001b[39;49;00m\r\n",
      "\r\n",
      "        \u001b[34mfor\u001b[39;49;00m batch \u001b[35min\u001b[39;49;00m train_loader:\r\n",
      "            \u001b[37m# get data\u001b[39;49;00m\r\n",
      "            batch_x, batch_y = batch\r\n",
      "\r\n",
      "            batch_x = batch_x.to(device)\r\n",
      "            batch_y = batch_y.to(device)\r\n",
      "\r\n",
      "            optimizer.zero_grad()\r\n",
      "\r\n",
      "            \u001b[37m# get predictions from model\u001b[39;49;00m\r\n",
      "            y_pred = model(batch_x)\r\n",
      "            \r\n",
      "            \u001b[37m# perform backprop\u001b[39;49;00m\r\n",
      "            loss = criterion(y_pred, batch_y)\r\n",
      "            loss.backward()\r\n",
      "            optimizer.step()\r\n",
      "            \r\n",
      "            total_loss += loss.data.item()\r\n",
      "\r\n",
      "        \u001b[34mprint\u001b[39;49;00m(\u001b[33m\"\u001b[39;49;00m\u001b[33mEpoch: {}, Loss: {}\u001b[39;49;00m\u001b[33m\"\u001b[39;49;00m.format(epoch, total_loss / \u001b[36mlen\u001b[39;49;00m(train_loader)))\r\n",
      "\r\n",
      "\r\n",
      "\u001b[37m## TODO: Complete the main code\u001b[39;49;00m\r\n",
      "\u001b[34mif\u001b[39;49;00m \u001b[31m__name__\u001b[39;49;00m == \u001b[33m'\u001b[39;49;00m\u001b[33m__main__\u001b[39;49;00m\u001b[33m'\u001b[39;49;00m:\r\n",
      "    \r\n",
      "    \u001b[37m# All of the model parameters and training parameters are sent as arguments\u001b[39;49;00m\r\n",
      "    \u001b[37m# when this script is executed, during a training job\u001b[39;49;00m\r\n",
      "    \r\n",
      "    \u001b[37m# Here we set up an argument parser to easily access the parameters\u001b[39;49;00m\r\n",
      "    parser = argparse.ArgumentParser()\r\n",
      "\r\n",
      "    \u001b[37m# SageMaker parameters, like the directories for training data and saving models; set automatically\u001b[39;49;00m\r\n",
      "    \u001b[37m# Do not need to change\u001b[39;49;00m\r\n",
      "    parser.add_argument(\u001b[33m'\u001b[39;49;00m\u001b[33m--output-data-dir\u001b[39;49;00m\u001b[33m'\u001b[39;49;00m, \u001b[36mtype\u001b[39;49;00m=\u001b[36mstr\u001b[39;49;00m, default=os.environ[\u001b[33m'\u001b[39;49;00m\u001b[33mSM_OUTPUT_DATA_DIR\u001b[39;49;00m\u001b[33m'\u001b[39;49;00m])\r\n",
      "    parser.add_argument(\u001b[33m'\u001b[39;49;00m\u001b[33m--model-dir\u001b[39;49;00m\u001b[33m'\u001b[39;49;00m, \u001b[36mtype\u001b[39;49;00m=\u001b[36mstr\u001b[39;49;00m, default=os.environ[\u001b[33m'\u001b[39;49;00m\u001b[33mSM_MODEL_DIR\u001b[39;49;00m\u001b[33m'\u001b[39;49;00m])\r\n",
      "    parser.add_argument(\u001b[33m'\u001b[39;49;00m\u001b[33m--data-dir\u001b[39;49;00m\u001b[33m'\u001b[39;49;00m, \u001b[36mtype\u001b[39;49;00m=\u001b[36mstr\u001b[39;49;00m, default=os.environ[\u001b[33m'\u001b[39;49;00m\u001b[33mSM_CHANNEL_TRAIN\u001b[39;49;00m\u001b[33m'\u001b[39;49;00m])\r\n",
      "    \r\n",
      "    \u001b[37m# Training Parameters, given\u001b[39;49;00m\r\n",
      "    parser.add_argument(\u001b[33m'\u001b[39;49;00m\u001b[33m--batch-size\u001b[39;49;00m\u001b[33m'\u001b[39;49;00m, \u001b[36mtype\u001b[39;49;00m=\u001b[36mint\u001b[39;49;00m, default=\u001b[34m10\u001b[39;49;00m, metavar=\u001b[33m'\u001b[39;49;00m\u001b[33mN\u001b[39;49;00m\u001b[33m'\u001b[39;49;00m,\r\n",
      "                        help=\u001b[33m'\u001b[39;49;00m\u001b[33minput batch size for training (default: 10)\u001b[39;49;00m\u001b[33m'\u001b[39;49;00m)\r\n",
      "    parser.add_argument(\u001b[33m'\u001b[39;49;00m\u001b[33m--epochs\u001b[39;49;00m\u001b[33m'\u001b[39;49;00m, \u001b[36mtype\u001b[39;49;00m=\u001b[36mint\u001b[39;49;00m, default=\u001b[34m10\u001b[39;49;00m, metavar=\u001b[33m'\u001b[39;49;00m\u001b[33mN\u001b[39;49;00m\u001b[33m'\u001b[39;49;00m,\r\n",
      "                        help=\u001b[33m'\u001b[39;49;00m\u001b[33mnumber of epochs to train (default: 10)\u001b[39;49;00m\u001b[33m'\u001b[39;49;00m)\r\n",
      "    parser.add_argument(\u001b[33m'\u001b[39;49;00m\u001b[33m--seed\u001b[39;49;00m\u001b[33m'\u001b[39;49;00m, \u001b[36mtype\u001b[39;49;00m=\u001b[36mint\u001b[39;49;00m, default=\u001b[34m1\u001b[39;49;00m, metavar=\u001b[33m'\u001b[39;49;00m\u001b[33mS\u001b[39;49;00m\u001b[33m'\u001b[39;49;00m,\r\n",
      "                        help=\u001b[33m'\u001b[39;49;00m\u001b[33mrandom seed (default: 1)\u001b[39;49;00m\u001b[33m'\u001b[39;49;00m)\r\n",
      "    \r\n",
      "    \u001b[37m## TODO: Add args for the three model parameters: input_features, hidden_dim, output_dim\u001b[39;49;00m\r\n",
      "    \u001b[37m# Model Parameters\u001b[39;49;00m\r\n",
      "    parser.add_argument(\u001b[33m'\u001b[39;49;00m\u001b[33m--input_features\u001b[39;49;00m\u001b[33m'\u001b[39;49;00m, \u001b[36mtype\u001b[39;49;00m=\u001b[36mint\u001b[39;49;00m, default=\u001b[34m2\u001b[39;49;00m, metavar=\u001b[33m'\u001b[39;49;00m\u001b[33mIN\u001b[39;49;00m\u001b[33m'\u001b[39;49;00m,\r\n",
      "                        help=\u001b[33m'\u001b[39;49;00m\u001b[33mnumber of input features to model (default: 2)\u001b[39;49;00m\u001b[33m'\u001b[39;49;00m)\r\n",
      "    parser.add_argument(\u001b[33m'\u001b[39;49;00m\u001b[33m--hidden_dim\u001b[39;49;00m\u001b[33m'\u001b[39;49;00m, \u001b[36mtype\u001b[39;49;00m=\u001b[36mint\u001b[39;49;00m, default=\u001b[34m10\u001b[39;49;00m, metavar=\u001b[33m'\u001b[39;49;00m\u001b[33mH\u001b[39;49;00m\u001b[33m'\u001b[39;49;00m,\r\n",
      "                        help=\u001b[33m'\u001b[39;49;00m\u001b[33mhidden dim of model (default: 10)\u001b[39;49;00m\u001b[33m'\u001b[39;49;00m)\r\n",
      "    parser.add_argument(\u001b[33m'\u001b[39;49;00m\u001b[33m--output_dim\u001b[39;49;00m\u001b[33m'\u001b[39;49;00m, \u001b[36mtype\u001b[39;49;00m=\u001b[36mint\u001b[39;49;00m, default=\u001b[34m1\u001b[39;49;00m, metavar=\u001b[33m'\u001b[39;49;00m\u001b[33mOUT\u001b[39;49;00m\u001b[33m'\u001b[39;49;00m,\r\n",
      "                        help=\u001b[33m'\u001b[39;49;00m\u001b[33moutput dim of model (default: 1)\u001b[39;49;00m\u001b[33m'\u001b[39;49;00m)\r\n",
      "    parser.add_argument(\u001b[33m'\u001b[39;49;00m\u001b[33m--lr\u001b[39;49;00m\u001b[33m'\u001b[39;49;00m, \u001b[36mtype\u001b[39;49;00m=\u001b[36mfloat\u001b[39;49;00m, default=\u001b[34m0.001\u001b[39;49;00m, metavar=\u001b[33m'\u001b[39;49;00m\u001b[33mLR\u001b[39;49;00m\u001b[33m'\u001b[39;49;00m,\r\n",
      "                        help=\u001b[33m'\u001b[39;49;00m\u001b[33mlearning rate (default: 0.001)\u001b[39;49;00m\u001b[33m'\u001b[39;49;00m)\r\n",
      "\r\n",
      "    \r\n",
      "    \r\n",
      "    \u001b[37m# args holds all passed-in arguments\u001b[39;49;00m\r\n",
      "    args = parser.parse_args()\r\n",
      "\r\n",
      "    device = torch.device(\u001b[33m\"\u001b[39;49;00m\u001b[33mcuda\u001b[39;49;00m\u001b[33m\"\u001b[39;49;00m \u001b[34mif\u001b[39;49;00m torch.cuda.is_available() \u001b[34melse\u001b[39;49;00m \u001b[33m\"\u001b[39;49;00m\u001b[33mcpu\u001b[39;49;00m\u001b[33m\"\u001b[39;49;00m)\r\n",
      "    \u001b[34mprint\u001b[39;49;00m(\u001b[33m\"\u001b[39;49;00m\u001b[33mUsing device {}.\u001b[39;49;00m\u001b[33m\"\u001b[39;49;00m.format(device))\r\n",
      "\r\n",
      "    torch.manual_seed(args.seed)\r\n",
      "\r\n",
      "    \u001b[37m# Load the training data.\u001b[39;49;00m\r\n",
      "    train_loader = _get_train_data_loader(args.batch_size, args.data_dir)\r\n",
      "\r\n",
      "\r\n",
      "    \u001b[37m## --- Your code here --- ##\u001b[39;49;00m\r\n",
      "    \r\n",
      "    \u001b[37m## TODO:  Build the model by passing in the input params\u001b[39;49;00m\r\n",
      "    \u001b[37m# To get params from the parser, call args.argument_name, ex. args.epochs or ards.hidden_dim\u001b[39;49;00m\r\n",
      "    \u001b[37m# Don't forget to move your model .to(device) to move to GPU , if appropriate\u001b[39;49;00m\r\n",
      "    model = BinaryClassifier(args.input_features, args.hidden_dim, args.output_dim).to(device)\r\n",
      "    \r\n",
      "\r\n",
      "    \u001b[37m## TODO: Define an optimizer and loss function for training\u001b[39;49;00m\r\n",
      "    optimizer = optim.Adam(model.parameters(), lr=args.lr)\r\n",
      "    criterion = nn.BCELoss()\r\n",
      "\r\n",
      "    \u001b[37m# Trains the model (given line of code, which calls the above training function)\u001b[39;49;00m\r\n",
      "    train(model, train_loader, args.epochs, criterion, optimizer, device)\r\n",
      "\r\n",
      "    \u001b[37m## TODO: complete in the model_info by adding three argument names, the first is given\u001b[39;49;00m\r\n",
      "    \u001b[37m# Keep the keys of this dictionary as they are \u001b[39;49;00m\r\n",
      "    model_info_path = os.path.join(args.model_dir, \u001b[33m'\u001b[39;49;00m\u001b[33mmodel_info.pth\u001b[39;49;00m\u001b[33m'\u001b[39;49;00m)\r\n",
      "    \u001b[34mwith\u001b[39;49;00m \u001b[36mopen\u001b[39;49;00m(model_info_path, \u001b[33m'\u001b[39;49;00m\u001b[33mwb\u001b[39;49;00m\u001b[33m'\u001b[39;49;00m) \u001b[34mas\u001b[39;49;00m f:\r\n",
      "        model_info = {\r\n",
      "            \u001b[33m'\u001b[39;49;00m\u001b[33minput_features\u001b[39;49;00m\u001b[33m'\u001b[39;49;00m: args.input_features,\r\n",
      "            \u001b[33m'\u001b[39;49;00m\u001b[33mhidden_dim\u001b[39;49;00m\u001b[33m'\u001b[39;49;00m: args.hidden_dim,\r\n",
      "            \u001b[33m'\u001b[39;49;00m\u001b[33moutput_dim\u001b[39;49;00m\u001b[33m'\u001b[39;49;00m: args.output_dim,\r\n",
      "        }\r\n",
      "        torch.save(model_info, f)\r\n",
      "        \r\n",
      "    \u001b[37m## --- End of your code  --- ##\u001b[39;49;00m\r\n",
      "    \r\n",
      "\r\n",
      "\t\u001b[37m# Save the model parameters\u001b[39;49;00m\r\n",
      "    model_path = os.path.join(args.model_dir, \u001b[33m'\u001b[39;49;00m\u001b[33mmodel.pth\u001b[39;49;00m\u001b[33m'\u001b[39;49;00m)\r\n",
      "    \u001b[34mwith\u001b[39;49;00m \u001b[36mopen\u001b[39;49;00m(model_path, \u001b[33m'\u001b[39;49;00m\u001b[33mwb\u001b[39;49;00m\u001b[33m'\u001b[39;49;00m) \u001b[34mas\u001b[39;49;00m f:\r\n",
      "        torch.save(model.cpu().state_dict(), f)\r\n"
     ]
    }
   ],
   "source": [
    "# directory can be changed to: source_sklearn or source_pytorch\n",
    "!pygmentize source_pytorch/train.py"
   ]
  },
  {
   "cell_type": "markdown",
   "metadata": {},
   "source": [
    "### Provided code\n",
    "\n",
    "If you read the code above, you can see that the starter code includes a few things:\n",
    "* Model loading (`model_fn`) and saving code\n",
    "* Getting SageMaker's default hyperparameters\n",
    "* Loading the training data by name, `train.csv` and extracting the features and labels, `train_x`, and `train_y`\n",
    "\n",
    "If you'd like to read more about model saving with [joblib for sklearn](https://scikit-learn.org/stable/modules/model_persistence.html) or with [torch.save](https://pytorch.org/tutorials/beginner/saving_loading_models.html), click on the provided links."
   ]
  },
  {
   "cell_type": "markdown",
   "metadata": {},
   "source": [
    "---\n",
    "# Create an Estimator\n",
    "\n",
    "When a custom model is constructed in SageMaker, an entry point must be specified. This is the Python file which will be executed when the model is trained; the `train.py` function you specified above. To run a custom training script in SageMaker, construct an estimator, and fill in the appropriate constructor arguments:\n",
    "\n",
    "* **entry_point**: The path to the Python script SageMaker runs for training and prediction.\n",
    "* **source_dir**: The path to the training script directory `source_sklearn` OR `source_pytorch`.\n",
    "* **entry_point**: The path to the Python script SageMaker runs for training and prediction.\n",
    "* **source_dir**: The path to the training script directory `train_sklearn` OR `train_pytorch`.\n",
    "* **entry_point**: The path to the Python script SageMaker runs for training.\n",
    "* **source_dir**: The path to the training script directory `train_sklearn` OR `train_pytorch`.\n",
    "* **role**: Role ARN, which was specified, above.\n",
    "* **train_instance_count**: The number of training instances (should be left at 1).\n",
    "* **train_instance_type**: The type of SageMaker instance for training. Note: Because Scikit-learn does not natively support GPU training, Sagemaker Scikit-learn does not currently support training on GPU instance types.\n",
    "* **sagemaker_session**: The session used to train on Sagemaker.\n",
    "* **hyperparameters** (optional): A dictionary `{'name':value, ..}` passed to the train function as hyperparameters.\n",
    "\n",
    "Note: For a PyTorch model, there is another optional argument **framework_version**, which you can set to the latest version of PyTorch, `1.0`.\n",
    "\n",
    "## EXERCISE: Define a Scikit-learn or PyTorch estimator\n",
    "\n",
    "To import your desired estimator, use one of the following lines:\n",
    "```\n",
    "from sagemaker.sklearn.estimator import SKLearn\n",
    "```\n",
    "```\n",
    "from sagemaker.pytorch import PyTorch\n",
    "```"
   ]
  },
  {
   "cell_type": "code",
   "execution_count": 56,
   "metadata": {},
   "outputs": [
    {
     "data": {
      "text/plain": [
       "'s3://sagemaker-us-east-1-171338130067/plagiarism_data'"
      ]
     },
     "execution_count": 56,
     "metadata": {},
     "output_type": "execute_result"
    }
   ],
   "source": [
    "input_data"
   ]
  },
  {
   "cell_type": "code",
   "execution_count": 60,
   "metadata": {},
   "outputs": [],
   "source": [
    "num_features=5"
   ]
  },
  {
   "cell_type": "code",
   "execution_count": 61,
   "metadata": {},
   "outputs": [],
   "source": [
    "# import a PyTorch wrapper\n",
    "from sagemaker.pytorch import PyTorch\n",
    "\n",
    "# specify an output path\n",
    "# prefix is specified above\n",
    "output_path = 's3://{}/{}'.format(bucket, prefix)\n",
    "\n",
    "# instantiate a pytorch estimator\n",
    "estimator = PyTorch(entry_point='train.py',\n",
    "                    source_dir='source_pytorch/', # this should be just \"source\" for your code\n",
    "                    role=role,\n",
    "                    framework_version='1.0',\n",
    "                    train_instance_count=1,\n",
    "                    train_instance_type='ml.c4.xlarge',\n",
    "                    output_path=output_path,\n",
    "                    sagemaker_session=sagemaker_session,\n",
    "                    hyperparameters={\n",
    "                        'input_features': num_features,  # num of features\n",
    "                        'hidden_dim': 10,\n",
    "                        'output_dim': 1,\n",
    "                        'epochs': 80 # could change to higher\n",
    "                    })"
   ]
  },
  {
   "cell_type": "markdown",
   "metadata": {},
   "source": [
    "## EXERCISE: Train the estimator\n",
    "\n",
    "Train your estimator on the training data stored in S3. This should create a training job that you can monitor in your SageMaker console."
   ]
  },
  {
   "cell_type": "code",
   "execution_count": null,
   "metadata": {},
   "outputs": [
    {
     "name": "stdout",
     "output_type": "stream",
     "text": [
      "2020-05-23 18:28:42 Starting - Starting the training job...\n",
      "2020-05-23 18:28:46 Starting - Launching requested ML instances.........\n",
      "2020-05-23 18:30:33 Starting - Preparing the instances for training......\n",
      "2020-05-23 18:31:42 Downloading - Downloading input data\n",
      "2020-05-23 18:31:42 Training - Downloading the training image...\n",
      "2020-05-23 18:32:07 Uploading - Uploading generated training model\u001b[34mbash: cannot set terminal process group (-1): Inappropriate ioctl for device\u001b[0m\n",
      "\u001b[34mbash: no job control in this shell\u001b[0m\n",
      "\u001b[34m2020-05-23 18:31:57,759 sagemaker-containers INFO     Imported framework sagemaker_pytorch_container.training\u001b[0m\n",
      "\u001b[34m2020-05-23 18:31:57,762 sagemaker-containers INFO     No GPUs detected (normal if no gpus installed)\u001b[0m\n",
      "\u001b[34m2020-05-23 18:31:57,775 sagemaker_pytorch_container.training INFO     Block until all host DNS lookups succeed.\u001b[0m\n",
      "\u001b[34m2020-05-23 18:31:58,419 sagemaker_pytorch_container.training INFO     Invoking user training script.\u001b[0m\n",
      "\u001b[34m2020-05-23 18:31:58,681 sagemaker-containers INFO     Module train does not provide a setup.py. \u001b[0m\n",
      "\u001b[34mGenerating setup.py\u001b[0m\n",
      "\u001b[34m2020-05-23 18:31:58,681 sagemaker-containers INFO     Generating setup.cfg\u001b[0m\n",
      "\u001b[34m2020-05-23 18:31:58,681 sagemaker-containers INFO     Generating MANIFEST.in\u001b[0m\n",
      "\u001b[34m2020-05-23 18:31:58,682 sagemaker-containers INFO     Installing module with the following command:\u001b[0m\n",
      "\u001b[34m/usr/bin/python -m pip install -U . \u001b[0m\n",
      "\u001b[34mProcessing /opt/ml/code\u001b[0m\n",
      "\u001b[34mBuilding wheels for collected packages: train\n",
      "  Running setup.py bdist_wheel for train: started\n",
      "  Running setup.py bdist_wheel for train: finished with status 'done'\n",
      "  Stored in directory: /tmp/pip-ephem-wheel-cache-eqtjbx68/wheels/35/24/16/37574d11bf9bde50616c67372a334f94fa8356bc7164af8ca3\u001b[0m\n",
      "\u001b[34mSuccessfully built train\u001b[0m\n",
      "\u001b[34mInstalling collected packages: train\u001b[0m\n",
      "\u001b[34mSuccessfully installed train-1.0.0\u001b[0m\n",
      "\u001b[34mYou are using pip version 18.1, however version 20.2b1 is available.\u001b[0m\n",
      "\u001b[34mYou should consider upgrading via the 'pip install --upgrade pip' command.\u001b[0m\n",
      "\u001b[34m2020-05-23 18:32:00,356 sagemaker-containers INFO     No GPUs detected (normal if no gpus installed)\u001b[0m\n",
      "\u001b[34m2020-05-23 18:32:00,368 sagemaker-containers INFO     Invoking user script\n",
      "\u001b[0m\n",
      "\u001b[34mTraining Env:\n",
      "\u001b[0m\n",
      "\u001b[34m{\n",
      "    \"additional_framework_parameters\": {},\n",
      "    \"channel_input_dirs\": {\n",
      "        \"train\": \"/opt/ml/input/data/train\"\n",
      "    },\n",
      "    \"current_host\": \"algo-1\",\n",
      "    \"framework_module\": \"sagemaker_pytorch_container.training:main\",\n",
      "    \"hosts\": [\n",
      "        \"algo-1\"\n",
      "    ],\n",
      "    \"hyperparameters\": {\n",
      "        \"hidden_dim\": 10,\n",
      "        \"input_features\": 5,\n",
      "        \"epochs\": 80,\n",
      "        \"output_dim\": 1\n",
      "    },\n",
      "    \"input_config_dir\": \"/opt/ml/input/config\",\n",
      "    \"input_data_config\": {\n",
      "        \"train\": {\n",
      "            \"TrainingInputMode\": \"File\",\n",
      "            \"S3DistributionType\": \"FullyReplicated\",\n",
      "            \"RecordWrapperType\": \"None\"\n",
      "        }\n",
      "    },\n",
      "    \"input_dir\": \"/opt/ml/input\",\n",
      "    \"is_master\": true,\n",
      "    \"job_name\": \"sagemaker-pytorch-2020-05-23-18-28-42-107\",\n",
      "    \"log_level\": 20,\n",
      "    \"master_hostname\": \"algo-1\",\n",
      "    \"model_dir\": \"/opt/ml/model\",\n",
      "    \"module_dir\": \"s3://sagemaker-us-east-1-171338130067/sagemaker-pytorch-2020-05-23-18-28-42-107/source/sourcedir.tar.gz\",\n",
      "    \"module_name\": \"train\",\n",
      "    \"network_interface_name\": \"eth0\",\n",
      "    \"num_cpus\": 4,\n",
      "    \"num_gpus\": 0,\n",
      "    \"output_data_dir\": \"/opt/ml/output/data\",\n",
      "    \"output_dir\": \"/opt/ml/output\",\n",
      "    \"output_intermediate_dir\": \"/opt/ml/output/intermediate\",\n",
      "    \"resource_config\": {\n",
      "        \"current_host\": \"algo-1\",\n",
      "        \"hosts\": [\n",
      "            \"algo-1\"\n",
      "        ],\n",
      "        \"network_interface_name\": \"eth0\"\n",
      "    },\n",
      "    \"user_entry_point\": \"train.py\"\u001b[0m\n",
      "\u001b[34m}\n",
      "\u001b[0m\n",
      "\u001b[34mEnvironment variables:\n",
      "\u001b[0m\n",
      "\u001b[34mSM_HOSTS=[\"algo-1\"]\u001b[0m\n",
      "\u001b[34mSM_NETWORK_INTERFACE_NAME=eth0\u001b[0m\n",
      "\u001b[34mSM_HPS={\"epochs\":80,\"hidden_dim\":10,\"input_features\":5,\"output_dim\":1}\u001b[0m\n",
      "\u001b[34mSM_USER_ENTRY_POINT=train.py\u001b[0m\n",
      "\u001b[34mSM_FRAMEWORK_PARAMS={}\u001b[0m\n",
      "\u001b[34mSM_RESOURCE_CONFIG={\"current_host\":\"algo-1\",\"hosts\":[\"algo-1\"],\"network_interface_name\":\"eth0\"}\u001b[0m\n",
      "\u001b[34mSM_INPUT_DATA_CONFIG={\"train\":{\"RecordWrapperType\":\"None\",\"S3DistributionType\":\"FullyReplicated\",\"TrainingInputMode\":\"File\"}}\u001b[0m\n",
      "\u001b[34mSM_OUTPUT_DATA_DIR=/opt/ml/output/data\u001b[0m\n",
      "\u001b[34mSM_CHANNELS=[\"train\"]\u001b[0m\n",
      "\u001b[34mSM_CURRENT_HOST=algo-1\u001b[0m\n",
      "\u001b[34mSM_MODULE_NAME=train\u001b[0m\n",
      "\u001b[34mSM_LOG_LEVEL=20\u001b[0m\n",
      "\u001b[34mSM_FRAMEWORK_MODULE=sagemaker_pytorch_container.training:main\u001b[0m\n",
      "\u001b[34mSM_INPUT_DIR=/opt/ml/input\u001b[0m\n",
      "\u001b[34mSM_INPUT_CONFIG_DIR=/opt/ml/input/config\u001b[0m\n",
      "\u001b[34mSM_OUTPUT_DIR=/opt/ml/output\u001b[0m\n",
      "\u001b[34mSM_NUM_CPUS=4\u001b[0m\n",
      "\u001b[34mSM_NUM_GPUS=0\u001b[0m\n",
      "\u001b[34mSM_MODEL_DIR=/opt/ml/model\u001b[0m\n",
      "\u001b[34mSM_MODULE_DIR=s3://sagemaker-us-east-1-171338130067/sagemaker-pytorch-2020-05-23-18-28-42-107/source/sourcedir.tar.gz\u001b[0m\n",
      "\u001b[34mSM_TRAINING_ENV={\"additional_framework_parameters\":{},\"channel_input_dirs\":{\"train\":\"/opt/ml/input/data/train\"},\"current_host\":\"algo-1\",\"framework_module\":\"sagemaker_pytorch_container.training:main\",\"hosts\":[\"algo-1\"],\"hyperparameters\":{\"epochs\":80,\"hidden_dim\":10,\"input_features\":5,\"output_dim\":1},\"input_config_dir\":\"/opt/ml/input/config\",\"input_data_config\":{\"train\":{\"RecordWrapperType\":\"None\",\"S3DistributionType\":\"FullyReplicated\",\"TrainingInputMode\":\"File\"}},\"input_dir\":\"/opt/ml/input\",\"is_master\":true,\"job_name\":\"sagemaker-pytorch-2020-05-23-18-28-42-107\",\"log_level\":20,\"master_hostname\":\"algo-1\",\"model_dir\":\"/opt/ml/model\",\"module_dir\":\"s3://sagemaker-us-east-1-171338130067/sagemaker-pytorch-2020-05-23-18-28-42-107/source/sourcedir.tar.gz\",\"module_name\":\"train\",\"network_interface_name\":\"eth0\",\"num_cpus\":4,\"num_gpus\":0,\"output_data_dir\":\"/opt/ml/output/data\",\"output_dir\":\"/opt/ml/output\",\"output_intermediate_dir\":\"/opt/ml/output/intermediate\",\"resource_config\":{\"current_host\":\"algo-1\",\"hosts\":[\"algo-1\"],\"network_interface_name\":\"eth0\"},\"user_entry_point\":\"train.py\"}\u001b[0m\n",
      "\u001b[34mSM_USER_ARGS=[\"--epochs\",\"80\",\"--hidden_dim\",\"10\",\"--input_features\",\"5\",\"--output_dim\",\"1\"]\u001b[0m\n",
      "\u001b[34mSM_OUTPUT_INTERMEDIATE_DIR=/opt/ml/output/intermediate\u001b[0m\n",
      "\u001b[34mSM_CHANNEL_TRAIN=/opt/ml/input/data/train\u001b[0m\n",
      "\u001b[34mSM_HP_HIDDEN_DIM=10\u001b[0m\n",
      "\u001b[34mSM_HP_INPUT_FEATURES=5\u001b[0m\n",
      "\u001b[34mSM_HP_EPOCHS=80\u001b[0m\n",
      "\u001b[34mSM_HP_OUTPUT_DIM=1\u001b[0m\n",
      "\u001b[34mPYTHONPATH=/usr/local/bin:/usr/lib/python36.zip:/usr/lib/python3.6:/usr/lib/python3.6/lib-dynload:/usr/local/lib/python3.6/dist-packages:/usr/lib/python3/dist-packages\n",
      "\u001b[0m\n",
      "\u001b[34mInvoking script with the following command:\n",
      "\u001b[0m\n",
      "\u001b[34m/usr/bin/python -m train --epochs 80 --hidden_dim 10 --input_features 5 --output_dim 1\n",
      "\n",
      "\u001b[0m\n",
      "\u001b[34mUsing device cpu.\u001b[0m\n",
      "\u001b[34mGet train data loader.\u001b[0m\n",
      "\u001b[34mEpoch: 1, Loss: 0.6699686135564532\u001b[0m\n",
      "\u001b[34mEpoch: 2, Loss: 0.6632788181304932\u001b[0m\n",
      "\u001b[34mEpoch: 3, Loss: 0.6672980529921395\u001b[0m\n",
      "\u001b[34mEpoch: 4, Loss: 0.6589842523847308\u001b[0m\n",
      "\u001b[34mEpoch: 5, Loss: 0.6528684496879578\u001b[0m\n",
      "\u001b[34mEpoch: 6, Loss: 0.6523081915719169\u001b[0m\n",
      "\u001b[34mEpoch: 7, Loss: 0.6420697484697614\u001b[0m\n",
      "\u001b[34mEpoch: 8, Loss: 0.6333295788083758\u001b[0m\n",
      "\u001b[34mEpoch: 9, Loss: 0.6342573676790509\u001b[0m\n",
      "\u001b[34mEpoch: 10, Loss: 0.6288525973047528\u001b[0m\n",
      "\u001b[34mEpoch: 11, Loss: 0.6283994998250689\u001b[0m\n",
      "\u001b[34mEpoch: 12, Loss: 0.6157345686640058\u001b[0m\n",
      "\u001b[34mEpoch: 13, Loss: 0.6167253596442086\u001b[0m\n",
      "\u001b[34mEpoch: 14, Loss: 0.6053766523088727\u001b[0m\n",
      "\u001b[34mEpoch: 15, Loss: 0.613450118473598\u001b[0m\n",
      "\u001b[34mEpoch: 16, Loss: 0.6080719402858189\u001b[0m\n",
      "\u001b[34mEpoch: 17, Loss: 0.5910864046641758\u001b[0m\n",
      "\u001b[34mEpoch: 18, Loss: 0.5926091160093035\u001b[0m\n",
      "\u001b[34mEpoch: 19, Loss: 0.5758707267897469\u001b[0m\n",
      "\u001b[34mEpoch: 20, Loss: 0.585735525403704\u001b[0m\n",
      "\u001b[34mEpoch: 21, Loss: 0.5826095342636108\u001b[0m\n",
      "\u001b[34mEpoch: 22, Loss: 0.5903532164437431\u001b[0m\n",
      "\u001b[34mEpoch: 23, Loss: 0.5672981228147235\u001b[0m\n",
      "\u001b[34mEpoch: 24, Loss: 0.5515583498137338\u001b[0m\n",
      "\u001b[34mEpoch: 25, Loss: 0.5473244488239288\u001b[0m\n",
      "\u001b[34mEpoch: 26, Loss: 0.5519406454903739\u001b[0m\n",
      "\u001b[34mEpoch: 27, Loss: 0.5506268739700317\u001b[0m\n",
      "\u001b[34mEpoch: 28, Loss: 0.5445282970155988\u001b[0m\n",
      "\u001b[34mEpoch: 29, Loss: 0.5560373876776014\u001b[0m\n",
      "\u001b[34mEpoch: 30, Loss: 0.5470062834875924\u001b[0m\n",
      "\u001b[34mEpoch: 31, Loss: 0.5331823825836182\u001b[0m\n",
      "\u001b[34mEpoch: 32, Loss: 0.5323275583130973\u001b[0m\n",
      "\u001b[34mEpoch: 33, Loss: 0.5335783277239118\u001b[0m\n",
      "\u001b[34mEpoch: 34, Loss: 0.5212141743728093\u001b[0m\n",
      "\u001b[34mEpoch: 35, Loss: 0.49962314537593294\u001b[0m\n",
      "\u001b[34mEpoch: 36, Loss: 0.513153212411063\u001b[0m\n",
      "\u001b[34mEpoch: 37, Loss: 0.5261957730565753\u001b[0m\n",
      "\u001b[34mEpoch: 38, Loss: 0.5111481589930398\u001b[0m\n",
      "\u001b[34mEpoch: 39, Loss: 0.5106005498341152\u001b[0m\n",
      "\u001b[34mEpoch: 40, Loss: 0.5177005061081478\u001b[0m\n",
      "\u001b[34mEpoch: 41, Loss: 0.47734404461724417\u001b[0m\n",
      "\u001b[34mEpoch: 42, Loss: 0.4954551671232496\u001b[0m\n",
      "\u001b[34mEpoch: 43, Loss: 0.4879722467490605\u001b[0m\n",
      "\u001b[34mEpoch: 44, Loss: 0.5160523312432426\u001b[0m\n",
      "\u001b[34mEpoch: 45, Loss: 0.5005909204483032\u001b[0m\n",
      "\u001b[34mEpoch: 46, Loss: 0.46899330615997314\u001b[0m\n",
      "\u001b[34mEpoch: 47, Loss: 0.48216202003615244\u001b[0m\n",
      "\u001b[34mEpoch: 48, Loss: 0.47842277373586384\u001b[0m\n",
      "\u001b[34mEpoch: 49, Loss: 0.48998010584286283\u001b[0m\n",
      "\u001b[34mEpoch: 50, Loss: 0.46476575306483675\u001b[0m\n",
      "\u001b[34mEpoch: 51, Loss: 0.4622830195086343\u001b[0m\n",
      "\u001b[34mEpoch: 52, Loss: 0.46677651149885996\u001b[0m\n",
      "\u001b[34mEpoch: 53, Loss: 0.46381097606250216\u001b[0m\n",
      "\u001b[34mEpoch: 54, Loss: 0.4495558227811541\u001b[0m\n",
      "\u001b[34mEpoch: 55, Loss: 0.4656188360282353\u001b[0m\n",
      "\u001b[34mEpoch: 56, Loss: 0.4516718472753252\u001b[0m\n",
      "\u001b[34mEpoch: 57, Loss: 0.4487538422857012\u001b[0m\n",
      "\u001b[34mEpoch: 58, Loss: 0.45374702555792673\u001b[0m\n",
      "\u001b[34mEpoch: 59, Loss: 0.453103380543845\u001b[0m\n",
      "\u001b[34mEpoch: 60, Loss: 0.44883168595177786\u001b[0m\n",
      "\u001b[34mEpoch: 61, Loss: 0.43242463043757845\u001b[0m\n",
      "\u001b[34mEpoch: 62, Loss: 0.42618667227881296\u001b[0m\n",
      "\u001b[34mEpoch: 63, Loss: 0.4367303379944393\u001b[0m\n",
      "\u001b[34mEpoch: 64, Loss: 0.41218770827565876\u001b[0m\n",
      "\u001b[34mEpoch: 65, Loss: 0.44461001242910114\u001b[0m\n",
      "\u001b[34mEpoch: 66, Loss: 0.4297484372343336\u001b[0m\n",
      "\u001b[34mEpoch: 67, Loss: 0.4278988071850368\u001b[0m\n",
      "\u001b[34mEpoch: 68, Loss: 0.42421514647347586\u001b[0m\n",
      "\u001b[34mEpoch: 69, Loss: 0.3974795341491699\u001b[0m\n",
      "\u001b[34mEpoch: 70, Loss: 0.4016097102846418\u001b[0m\n",
      "\u001b[34mEpoch: 71, Loss: 0.4285257543836321\u001b[0m\n",
      "\u001b[34mEpoch: 72, Loss: 0.38493065323148457\u001b[0m\n",
      "\u001b[34mEpoch: 73, Loss: 0.4071024443422045\u001b[0m\n",
      "\u001b[34mEpoch: 74, Loss: 0.4134871704237802\u001b[0m\n",
      "\u001b[34mEpoch: 75, Loss: 0.39794236421585083\u001b[0m\n",
      "\u001b[34mEpoch: 76, Loss: 0.381315141916275\u001b[0m\n",
      "\u001b[34mEpoch: 77, Loss: 0.3714544602802822\u001b[0m\n",
      "\u001b[34mEpoch: 78, Loss: 0.39592741216932026\u001b[0m\n",
      "\u001b[34mEpoch: 79, Loss: 0.4108173506600516\u001b[0m\n",
      "\u001b[34mEpoch: 80, Loss: 0.3704029364245279\u001b[0m\n",
      "\u001b[34m2020-05-23 18:32:02,215 sagemaker-containers INFO     Reporting training SUCCESS\u001b[0m\n",
      "\n",
      "2020-05-23 18:32:14 Completed - Training job completed\n",
      "Training seconds: 46\n",
      "Billable seconds: 46\n",
      "CPU times: user 550 ms, sys: 37.6 ms, total: 588 ms\n",
      "Wall time: 4min 12s\n"
     ]
    }
   ],
   "source": [
    "%%time \n",
    "# train the estimator on S3 training data\n",
    "estimator.fit({'train': input_data})"
   ]
  },
  {
   "cell_type": "markdown",
   "metadata": {},
   "source": [
    "## EXERCISE: Deploy the trained model\n",
    "\n",
    "After training, deploy your model to create a `predictor`. If you're using a PyTorch model, you'll need to create a trained `PyTorchModel` that accepts the trained `<model>.model_data` as an input parameter and points to the provided `source_pytorch/predict.py` file as an entry point. \n",
    "\n",
    "To deploy a trained model, you'll use `<model>.deploy`, which takes in two arguments:\n",
    "* **initial_instance_count**: The number of deployed instances (1).\n",
    "* **instance_type**: The type of SageMaker instance for deployment.\n",
    "\n",
    "Note: If you run into an instance error, it may be because you chose the wrong training or deployment instance_type. It may help to refer to your previous exercise code to see which types of instances we used."
   ]
  },
  {
   "cell_type": "code",
   "execution_count": 69,
   "metadata": {},
   "outputs": [
    {
     "name": "stdout",
     "output_type": "stream",
     "text": [
      "CPU times: user 14.1 ms, sys: 0 ns, total: 14.1 ms\n",
      "Wall time: 73.1 ms\n"
     ]
    }
   ],
   "source": [
    "%%time\n",
    "# importing PyTorchModel\n",
    "from sagemaker.pytorch import PyTorchModel\n",
    "\n",
    "# Create a model from the trained estimator data\n",
    "# And point to the prediction script\n",
    "model = PyTorchModel(model_data=estimator.model_data,\n",
    "                     role = role,\n",
    "                     framework_version='1.0',\n",
    "                     entry_point='predict.py',\n",
    "                     source_dir='source_pytorch')\n",
    "\n",
    "# uncomment, if needed\n",
    "# from sagemaker.pytorch import PyTorchModel"
   ]
  },
  {
   "cell_type": "code",
   "execution_count": 70,
   "metadata": {},
   "outputs": [
    {
     "name": "stdout",
     "output_type": "stream",
     "text": [
      "---------------!CPU times: user 376 ms, sys: 41.8 ms, total: 418 ms\n",
      "Wall time: 7min 32s\n"
     ]
    }
   ],
   "source": [
    "%%time\n",
    "# deploy and create a predictor\n",
    "predictor = model.deploy(initial_instance_count=1, instance_type='ml.t2.medium')"
   ]
  },
  {
   "cell_type": "markdown",
   "metadata": {},
   "source": [
    "---\n",
    "# Evaluating Your Model\n",
    "\n",
    "Once your model is deployed, you can see how it performs when applied to our test data.\n",
    "\n",
    "The provided cell below, reads in the test data, assuming it is stored locally in `data_dir` and named `test.csv`. The labels and features are extracted from the `.csv` file."
   ]
  },
  {
   "cell_type": "code",
   "execution_count": 72,
   "metadata": {},
   "outputs": [],
   "source": [
    "\"\"\"\n",
    "DON'T MODIFY ANYTHING IN THIS CELL THAT IS BELOW THIS LINE\n",
    "\"\"\"\n",
    "import os\n",
    "\n",
    "# read in test data, assuming it is stored locally\n",
    "test_data = pd.read_csv(os.path.join(data_dir, \"test.csv\"), header=None, names=None)\n",
    "\n",
    "# labels are in the first column\n",
    "test_y = test_data.iloc[:,0]\n",
    "test_x = test_data.iloc[:,1:]"
   ]
  },
  {
   "cell_type": "markdown",
   "metadata": {},
   "source": [
    "## EXERCISE: Determine the accuracy of your model\n",
    "\n",
    "Use your deployed `predictor` to generate predicted, class labels for the test data. Compare those to the *true* labels, `test_y`, and calculate the accuracy as a value between 0 and 1.0 that indicates the fraction of test data that your model classified correctly. You may use [sklearn.metrics](https://scikit-learn.org/stable/modules/classes.html#module-sklearn.metrics) for this calculation.\n",
    "\n",
    "**To pass this project, your model should get at least 90% test accuracy.**"
   ]
  },
  {
   "cell_type": "code",
   "execution_count": 77,
   "metadata": {},
   "outputs": [],
   "source": [
    "# First: generate predicted, class labels\n",
    "import numpy as np\n",
    "test_y_preds =  np.squeeze(np.round(predictor.predict(test_x)))"
   ]
  },
  {
   "cell_type": "code",
   "execution_count": 82,
   "metadata": {},
   "outputs": [
    {
     "name": "stdout",
     "output_type": "stream",
     "text": [
      "Test passed!\n"
     ]
    }
   ],
   "source": [
    "\"\"\"\n",
    "DON'T MODIFY ANYTHING IN THIS CELL THAT IS BELOW THIS LINE\n",
    "\"\"\"\n",
    "\n",
    "# test that your model generates the correct number of labels\n",
    "assert len(test_y_preds)==len(test_y), 'Unexpected number of predictions.'\n",
    "print('Test passed!')"
   ]
  },
  {
   "cell_type": "code",
   "execution_count": 84,
   "metadata": {},
   "outputs": [
    {
     "name": "stdout",
     "output_type": "stream",
     "text": [
      "1.0\n",
      "\n",
      "Predicted class labels: \n",
      "[1. 1. 1. 1. 1. 1. 0. 0. 0. 0. 0. 0. 1. 1. 1. 1. 1. 1. 0. 1. 0. 1. 1. 0.\n",
      " 0.]\n",
      "\n",
      "True class labels: \n",
      "[1 1 1 1 1 1 0 0 0 0 0 0 1 1 1 1 1 1 0 1 0 1 1 0 0]\n"
     ]
    }
   ],
   "source": [
    "# Second: calculate the test accuracy\n",
    "def accuracy(test_y, pred_y):  \n",
    "    correct_cases = len(test_y[test_y == pred_y])\n",
    "    cases_n = len(test_y)\n",
    "    return(correct_cases/cases_n)\n",
    "    \n",
    "accuracy = accuracy(test_y, test_y_preds)\n",
    "\n",
    "print(accuracy)\n",
    "\n",
    "\n",
    "## print out the array of predicted and true labels, if you want\n",
    "print('\\nPredicted class labels: ')\n",
    "print(test_y_preds)\n",
    "print('\\nTrue class labels: ')\n",
    "print(test_y.values)"
   ]
  },
  {
   "cell_type": "markdown",
   "metadata": {},
   "source": [
    "### Question 1: How many false positives and false negatives did your model produce, if any? And why do you think this is?"
   ]
  },
  {
   "cell_type": "markdown",
   "metadata": {},
   "source": [
    "**Answer**: \n",
    "No false positives or false negatives from test data. It seems the model has done a very good job recognizing the pattern of how plagiarism text looks like or the test data are extremely similar to the training data."
   ]
  },
  {
   "cell_type": "markdown",
   "metadata": {},
   "source": [
    "### Question 2: How did you decide on the type of model to use? "
   ]
  },
  {
   "cell_type": "markdown",
   "metadata": {},
   "source": [
    "**Answer**: \n",
    "Firstly, decide whether to use a regression or classification model. In this case, we will use binary classification since the output will be 1 or 0, 1 as 'Plagiarism' and 0 as 'original' . In this case, we can either use xgboost, NN models. I choose pytorch to build neaural network model since it has more flexibility in terms of model stucture and we can build a relatively simple model due to the small number of training data\n",
    "\n"
   ]
  },
  {
   "cell_type": "markdown",
   "metadata": {},
   "source": [
    "----\n",
    "## EXERCISE: Clean up Resources\n",
    "\n",
    "After you're done evaluating your model, **delete your model endpoint**. You can do this with a call to `.delete_endpoint()`. You need to show, in this notebook, that the endpoint was deleted. Any other resources, you may delete from the AWS console, and you will find more instructions on cleaning up all your resources, below."
   ]
  },
  {
   "cell_type": "code",
   "execution_count": 90,
   "metadata": {},
   "outputs": [],
   "source": [
    "# uncomment and fill in the line below!\n",
    "# <name_of_deployed_predictor>.delete_endpoint()\n",
    "predictor.delete_endpoint()"
   ]
  },
  {
   "cell_type": "markdown",
   "metadata": {},
   "source": [
    "### Deleting S3 bucket\n",
    "\n",
    "When you are *completely* done with training and testing models, you can also delete your entire S3 bucket. If you do this before you are done training your model, you'll have to recreate your S3 bucket and upload your training data again."
   ]
  },
  {
   "cell_type": "code",
   "execution_count": 91,
   "metadata": {},
   "outputs": [
    {
     "data": {
      "text/plain": [
       "[{'ResponseMetadata': {'RequestId': '935F862B23DBBAAE',\n",
       "   'HostId': 'jCzx65fRapSii4kdwtO5wfB4pxYXEUWApwRMUVaUEhHP1yYh//AdkZvjFYtxAvA8N3mjlj2owDU=',\n",
       "   'HTTPStatusCode': 200,\n",
       "   'HTTPHeaders': {'x-amz-id-2': 'jCzx65fRapSii4kdwtO5wfB4pxYXEUWApwRMUVaUEhHP1yYh//AdkZvjFYtxAvA8N3mjlj2owDU=',\n",
       "    'x-amz-request-id': '935F862B23DBBAAE',\n",
       "    'date': 'Sat, 23 May 2020 19:03:36 GMT',\n",
       "    'connection': 'close',\n",
       "    'content-type': 'application/xml',\n",
       "    'transfer-encoding': 'chunked',\n",
       "    'server': 'AmazonS3'},\n",
       "   'RetryAttempts': 0},\n",
       "  'Deleted': [{'Key': 'sagemaker-pytorch-2020-05-13-20-54-35-734/sourcedir.tar.gz'},\n",
       "   {'Key': 'sagemaker-pytorch-2020-05-13-14-16-49-954/debug-output/training_job_end.ts'},\n",
       "   {'Key': 'sagemaker/moon-data/sagemaker-pytorch-2020-05-20-21-55-30-007/output/model.tar.gz'},\n",
       "   {'Key': 'sagemaker/moon-data/sagemaker-pytorch-2020-05-20-19-45-33-998/output/model.tar.gz'},\n",
       "   {'Key': 'sagemaker-pytorch-2020-05-13-20-11-07-358/output/model.tar.gz'},\n",
       "   {'Key': 'plagiarism_data/train.csv'},\n",
       "   {'Key': 'sagemaker/sentiment_rnn/train.csv'},\n",
       "   {'Key': 'deepar-energy-consumption/output/forecasting-deepar-2020-05-21-15-53-50-776/output/model.tar.gz'},\n",
       "   {'Key': 'counties/kmeans-2020-05-14-18-01-54-631/output/model.tar.gz'},\n",
       "   {'Key': 'sagemaker-pytorch-2020-05-13-14-16-49-954/output/model.tar.gz'},\n",
       "   {'Key': 'sagemaker/moon-data/sagemaker-pytorch-2020-05-20-19-54-00-212/output/model.tar.gz'},\n",
       "   {'Key': 'plagiarism_data/sagemaker-pytorch-2020-05-23-18-28-42-107/debug-output/training_job_end.ts'},\n",
       "   {'Key': 'plagiarism_data/sagemaker-pytorch-2020-05-23-18-28-42-107/output/model.tar.gz'},\n",
       "   {'Key': 'counties/pca-2020-05-14-17-24-53-310/output/model.tar.gz'},\n",
       "   {'Key': 'sagemaker-pytorch-2020-05-13-14-16-49-954/source/sourcedir.tar.gz'},\n",
       "   {'Key': 'sagemaker-pytorch-2020-05-12-15-31-06-877/source/sourcedir.tar.gz'},\n",
       "   {'Key': 'sagemaker-pytorch-2020-05-13-20-40-16-566/sourcedir.tar.gz'},\n",
       "   {'Key': 'sagemaker-pytorch-2020-05-13-21-07-32-745/sourcedir.tar.gz'},\n",
       "   {'Key': 'sagemaker-pytorch-2020-05-12-15-31-06-877/output/model.tar.gz'},\n",
       "   {'Key': 'sagemaker-pytorch-2020-05-20-19-39-58-844/source/sourcedir.tar.gz'},\n",
       "   {'Key': 'sagemaker-pytorch-2020-05-20-19-54-00-212/source/sourcedir.tar.gz'},\n",
       "   {'Key': 'sagemaker/moon-data/sagemaker-pytorch-2020-05-20-20-43-12-902/output/model.tar.gz'},\n",
       "   {'Key': 'sagemaker-record-sets/PCA-2020-05-14-17-24-46-941/matrix_0.pbr'},\n",
       "   {'Key': 'creditcard/linear-learner-2020-05-16-16-03-01-607/output/model.tar.gz'},\n",
       "   {'Key': 'sagemaker-pytorch-2020-05-23-18-04-02-267/source/sourcedir.tar.gz'},\n",
       "   {'Key': 'sagemaker-pytorch-2020-05-12-18-18-10-801/source/sourcedir.tar.gz'},\n",
       "   {'Key': 'sagemaker-pytorch-2020-05-23-18-01-49-110/source/sourcedir.tar.gz'},\n",
       "   {'Key': 'sagemaker-record-sets/LinearLearner-2020-05-16-16-01-11-763/matrix_0.pbr'},\n",
       "   {'Key': 'sagemaker-pytorch-2020-05-23-17-17-45-681/source/sourcedir.tar.gz'},\n",
       "   {'Key': 'sagemaker-pytorch-2020-05-23-18-42-12-510/sourcedir.tar.gz'},\n",
       "   {'Key': 'sagemaker-record-sets/KMeans-2020-05-05-21-14-54-618/.amazon.manifest'},\n",
       "   {'Key': 'sagemaker-record-sets/LinearLearner-2020-05-16-16-01-11-763/.amazon.manifest'},\n",
       "   {'Key': 'sagemaker-pytorch-2020-05-23-18-28-42-107/source/sourcedir.tar.gz'},\n",
       "   {'Key': 'sagemaker-record-sets/KMeans-2020-05-05-21-14-54-618/matrix_0.pbr'},\n",
       "   {'Key': 'sagemaker/moon-data/train.csv'},\n",
       "   {'Key': 'sagemaker/moon-data/sagemaker-pytorch-2020-05-20-20-52-50-677/output/model.tar.gz'},\n",
       "   {'Key': 'sagemaker-pytorch-2020-05-12-18-18-10-801/debug-output/training_job_end.ts'},\n",
       "   {'Key': 'sagemaker/moon-data/sagemaker-pytorch-2020-05-20-20-00-54-653/output/model.tar.gz'},\n",
       "   {'Key': 'sagemaker/moon-data/sagemaker-pytorch-2020-05-20-17-16-06-146/output/model.tar.gz'},\n",
       "   {'Key': 'sagemaker-pytorch-2020-05-20-20-00-54-653/source/sourcedir.tar.gz'},\n",
       "   {'Key': 'counties/kmeans-2020-05-05-21-15-07-367/output/model.tar.gz'},\n",
       "   {'Key': 'sagemaker-pytorch-2020-05-23-17-39-12-831/source/sourcedir.tar.gz'},\n",
       "   {'Key': 'sagemaker-pytorch-2020-05-20-17-16-06-146/source/sourcedir.tar.gz'},\n",
       "   {'Key': 'sagemaker-pytorch-2020-05-20-19-45-33-998/source/sourcedir.tar.gz'},\n",
       "   {'Key': 'sagemaker-pytorch-2020-05-20-20-43-12-902/source/sourcedir.tar.gz'},\n",
       "   {'Key': 'sagemaker-pytorch-2020-05-23-17-56-55-574/source/sourcedir.tar.gz'},\n",
       "   {'Key': 'sagemaker-pytorch-2020-05-13-20-11-07-358/source/sourcedir.tar.gz'},\n",
       "   {'Key': 'sagemaker-record-sets/PCA-2020-05-14-17-24-46-941/.amazon.manifest'},\n",
       "   {'Key': 'sagemaker-pytorch-2020-05-20-17-25-39-535/sourcedir.tar.gz'},\n",
       "   {'Key': 'sagemaker-pytorch-2020-05-12-18-18-10-801/output/model.tar.gz'},\n",
       "   {'Key': 'sagemaker-pytorch-2020-05-23-18-28-14-499/source/sourcedir.tar.gz'},\n",
       "   {'Key': 'plagiarism_data/test.csv'},\n",
       "   {'Key': 'creditcard/linear-learner-2020-05-16-16-35-07-863/output/model.tar.gz'},\n",
       "   {'Key': 'sagemaker-record-sets/PCA-2020-05-05-18-50-00-543/.amazon.manifest'},\n",
       "   {'Key': 'sagemaker/moon-data/sagemaker-pytorch-2020-05-20-19-39-58-844/output/model.tar.gz'},\n",
       "   {'Key': 'sagemaker-pytorch-2020-05-20-19-53-49-353/sourcedir.tar.gz'},\n",
       "   {'Key': 'sagemaker-pytorch-2020-05-23-17-12-41-948/source/sourcedir.tar.gz'},\n",
       "   {'Key': 'sagemaker-record-sets/KMeans-2020-05-14-18-01-52-147/matrix_0.pbr'},\n",
       "   {'Key': 'sagemaker-pytorch-2020-05-12-18-02-27-933/source/sourcedir.tar.gz'},\n",
       "   {'Key': 'sagemaker/moon-data/sagemaker-pytorch-2020-05-20-17-16-06-146/debug-output/training_job_end.ts'},\n",
       "   {'Key': 'deepar-energy-consumption/test/test.json'},\n",
       "   {'Key': 'sagemaker-pytorch-2020-05-12-15-31-06-877/debug-output/training_job_end.ts'},\n",
       "   {'Key': 'sagemaker-pytorch-2020-05-13-20-19-34-051/sourcedir.tar.gz'},\n",
       "   {'Key': 'sagemaker-pytorch-2020-05-23-16-40-53-380/source/sourcedir.tar.gz'},\n",
       "   {'Key': 'sagemaker-pytorch-2020-05-13-14-49-48-936/sourcedir.tar.gz'},\n",
       "   {'Key': 'sagemaker-pytorch-2020-05-23-16-54-12-029/source/sourcedir.tar.gz'},\n",
       "   {'Key': 'deepar-energy-consumption/train/train.json'},\n",
       "   {'Key': 'sagemaker-pytorch-2020-05-13-20-11-07-358/debug-output/training_job_end.ts'},\n",
       "   {'Key': 'sagemaker-record-sets/PCA-2020-05-05-18-50-00-543/matrix_0.pbr'},\n",
       "   {'Key': 'sagemaker-record-sets/KMeans-2020-05-14-18-01-52-147/.amazon.manifest'},\n",
       "   {'Key': 'sagemaker/sentiment_rnn/word_dict.pkl'},\n",
       "   {'Key': 'sagemaker-pytorch-2020-05-13-15-57-44-306/sourcedir.tar.gz'},\n",
       "   {'Key': 'sagemaker-pytorch-2020-05-20-20-52-50-677/source/sourcedir.tar.gz'},\n",
       "   {'Key': 'sagemaker-pytorch-2020-05-23-18-09-21-685/source/sourcedir.tar.gz'},\n",
       "   {'Key': 'sagemaker-pytorch-2020-05-20-21-55-30-007/source/sourcedir.tar.gz'}]}]"
      ]
     },
     "execution_count": 91,
     "metadata": {},
     "output_type": "execute_result"
    }
   ],
   "source": [
    "# deleting bucket, uncomment lines below\n",
    "\n",
    "bucket_to_delete = boto3.resource('s3').Bucket(bucket)\n",
    "bucket_to_delete.objects.all().delete()"
   ]
  },
  {
   "cell_type": "markdown",
   "metadata": {},
   "source": [
    "### Deleting all your models and instances\n",
    "\n",
    "When you are _completely_ done with this project and do **not** ever want to revisit this notebook, you can choose to delete all of your SageMaker notebook instances and models by following [these instructions](https://docs.aws.amazon.com/sagemaker/latest/dg/ex1-cleanup.html). Before you delete this notebook instance, I recommend at least downloading a copy and saving it, locally."
   ]
  },
  {
   "cell_type": "markdown",
   "metadata": {},
   "source": [
    "---\n",
    "## Further Directions\n",
    "\n",
    "There are many ways to improve or add on to this project to expand your learning or make this more of a unique project for you. A few ideas are listed below:\n",
    "* Train a classifier to predict the *category* (1-3) of plagiarism and not just plagiarized (1) or not (0).\n",
    "* Utilize a different and larger dataset to see if this model can be extended to other types of plagiarism.\n",
    "* Use language or character-level analysis to find different (and more) similarity features.\n",
    "* Write a complete pipeline function that accepts a source text and submitted text file, and classifies the submitted text as plagiarized or not.\n",
    "* Use API Gateway and a lambda function to deploy your model to a web application.\n",
    "\n",
    "These are all just options for extending your work. If you've completed all the exercises in this notebook, you've completed a real-world application, and can proceed to submit your project. Great job!"
   ]
  }
 ],
 "metadata": {
  "kernelspec": {
   "display_name": "conda_pytorch_p36",
   "language": "python",
   "name": "conda_pytorch_p36"
  },
  "language_info": {
   "codemirror_mode": {
    "name": "ipython",
    "version": 3
   },
   "file_extension": ".py",
   "mimetype": "text/x-python",
   "name": "python",
   "nbconvert_exporter": "python",
   "pygments_lexer": "ipython3",
   "version": "3.6.5"
  }
 },
 "nbformat": 4,
 "nbformat_minor": 2
}
